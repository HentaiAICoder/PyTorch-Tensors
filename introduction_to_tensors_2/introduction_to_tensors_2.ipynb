{
 "cells": [
  {
   "cell_type": "markdown",
   "metadata": {},
   "source": [
    "# Terragon.de PyTorch Tutorial (German)\n",
    "## Wie kann ich mit mehreren Tensoren rechnen?\n",
    "\n",
    "## Video 3: https://www.youtube.com/watch?v=rrZjDVfte9Y\n",
    "\n",
    "In diesem Tutorial sehen wir wie man mehrere Tensoren kombinieren, addieren und subtrahieren kann."
   ]
  },
  {
   "cell_type": "code",
   "execution_count": 1,
   "metadata": {},
   "outputs": [],
   "source": [
    "import torch"
   ]
  },
  {
   "cell_type": "code",
   "execution_count": 3,
   "metadata": {},
   "outputs": [
    {
     "name": "stdout",
     "output_type": "stream",
     "text": [
      "tensor([[1, 1, 1],\n",
      "        [2, 2, 2],\n",
      "        [3, 3, 3],\n",
      "        [4, 4, 4]])\n",
      "torch.Size([4, 3])\n"
     ]
    }
   ],
   "source": [
    "rank2 = [[1,1,1],[2,2,2],[3,3,3],[4,4,4]]\n",
    "rank2 = torch.tensor(rank2)\n",
    "print(rank2)\n",
    "print(rank2.shape)"
   ]
  },
  {
   "cell_type": "markdown",
   "metadata": {},
   "source": [
    "# Stack() mehrerer Tensoren\n",
    "\n",
    "Wir erzeugen 3 Tensoren in der gleichen Dimension, die z.B. 3 Bilder als Batch simulieren.\n",
    "Dann werden die 3 Tensoren mit torch.stack Zusammengeführt.\n",
    "\n",
    "Der 1. Wert ist der Batch, danach kommt die Dimension der 3 Tensoren. Zu erkennen an der doppelten eckigen Klammer am Anfang."
   ]
  },
  {
   "cell_type": "code",
   "execution_count": 4,
   "metadata": {},
   "outputs": [
    {
     "name": "stdout",
     "output_type": "stream",
     "text": [
      "tensor([[1, 1, 1, 2, 2, 2, 3, 3, 3, 4, 4, 4],\n",
      "        [1, 1, 1, 2, 2, 2, 3, 3, 3, 4, 4, 4],\n",
      "        [1, 1, 1, 2, 2, 2, 3, 3, 3, 4, 4, 4]])\n",
      "torch.Size([3, 12])\n"
     ]
    }
   ],
   "source": [
    "Tensor1 = rank2.flatten()\n",
    "Tensor2 = rank2.flatten()\n",
    "Tensor3 = rank2.flatten()\n",
    "Tensor4 = torch.stack((Tensor1,Tensor2,Tensor3))\n",
    "print(Tensor4)\n",
    "print(Tensor4.shape)"
   ]
  },
  {
   "cell_type": "markdown",
   "metadata": {},
   "source": [
    "# Cat() mehrerer Tensoren\n",
    "\n",
    "Um mehrere Tensoren zu verknüpfen gibt es in PyTorch den cat Befehl.\n",
    "\n",
    "Bevor Tensoren verknüpft werden können, müssen sie meistens vorher einen reshape erfahren, da sie auf den selben shape gebracht werden müssen."
   ]
  },
  {
   "cell_type": "code",
   "execution_count": 8,
   "metadata": {},
   "outputs": [
    {
     "name": "stdout",
     "output_type": "stream",
     "text": [
      "tensor([[1, 1, 1],\n",
      "        [2, 2, 2],\n",
      "        [3, 3, 3],\n",
      "        [4, 4, 4],\n",
      "        [1, 1, 1],\n",
      "        [2, 2, 2],\n",
      "        [3, 3, 3],\n",
      "        [4, 4, 4]])\n"
     ]
    }
   ],
   "source": [
    "Tensor1 = rank2\n",
    "Tensor2 = rank2\n",
    "\n",
    "Tensor3 = torch.cat((Tensor1, Tensor2), dim=0)\n",
    "\n",
    "print(Tensor3)"
   ]
  },
  {
   "cell_type": "code",
   "execution_count": 9,
   "metadata": {},
   "outputs": [
    {
     "name": "stdout",
     "output_type": "stream",
     "text": [
      "Shape des verknüpften Tensors: \n",
      "torch.Size([8, 3])\n"
     ]
    }
   ],
   "source": [
    "print(\"Shape des verknüpften Tensors: \")\n",
    "print(Tensor3.shape)"
   ]
  },
  {
   "cell_type": "markdown",
   "metadata": {},
   "source": [
    "# Addition, Subtraktion, Multiplikation, Division von 2 Tensoren\n",
    "\n",
    "Addition, Subtraktion, Multiplikation und Division von Tensoren (bzw. Matrizen) fallen unter den Begriff \"Element-wise Operations\".\n",
    "\n",
    "Sogenannte korrespondierende Elemente sind Elemente, die an derselben Position von 2 Tensoren stehen. Also zum Beispiel der 1. Pixel jeweils in Tensor 1 und Tensor 2. Beide Tensoren müssen denselben Shape haben. Die Korrespondenz ist also definiert über den genauen Index. "
   ]
  },
  {
   "cell_type": "code",
   "execution_count": 15,
   "metadata": {},
   "outputs": [
    {
     "name": "stdout",
     "output_type": "stream",
     "text": [
      "tensor([[1, 1, 1],\n",
      "        [2, 2, 2],\n",
      "        [3, 3, 3],\n",
      "        [4, 4, 4]])\n",
      "tensor([[1, 1, 1],\n",
      "        [2, 2, 2],\n",
      "        [3, 3, 3],\n",
      "        [4, 4, 4]])\n",
      "Addition:  tensor([[2, 2, 2],\n",
      "        [4, 4, 4],\n",
      "        [6, 6, 6],\n",
      "        [8, 8, 8]])\n",
      "Subtraktion:  tensor([[0, 0, 0],\n",
      "        [0, 0, 0],\n",
      "        [0, 0, 0],\n",
      "        [0, 0, 0]])\n",
      "Multiplikation:  tensor([[ 1,  1,  1],\n",
      "        [ 4,  4,  4],\n",
      "        [ 9,  9,  9],\n",
      "        [16, 16, 16]])\n",
      "Division:  tensor([[1, 1, 1],\n",
      "        [1, 1, 1],\n",
      "        [1, 1, 1],\n",
      "        [1, 1, 1]])\n"
     ]
    }
   ],
   "source": [
    "Tensor1 = rank2\n",
    "Tensor2 = rank2\n",
    "\n",
    "Tensor3 = (Tensor1 + Tensor2)\n",
    "Tensor4 = (Tensor1 - Tensor2)\n",
    "Tensor5 = (Tensor1 * Tensor2)\n",
    "Tensor6 = (Tensor1 / Tensor2)\n",
    "\n",
    "print(Tensor1)\n",
    "print(Tensor2)\n",
    "print(\"Addition: \",Tensor3)\n",
    "print(\"Subtraktion: \",Tensor4)\n",
    "print(\"Multiplikation: \",Tensor5)\n",
    "print(\"Division: \",Tensor6)"
   ]
  },
  {
   "cell_type": "markdown",
   "metadata": {},
   "source": [
    "<img src=\"20181021 Tensor Tutorial Grafik 3.4.jpg\">"
   ]
  },
  {
   "cell_type": "markdown",
   "metadata": {},
   "source": [
    "# Addition, Subtraktion, Multiplikation, Division von 1 Tensor mit 1 Zahl\n",
    "\n",
    "Wenn ein Tensor jedoch mit nur einer Zahl addiert oder subtrahiert wird (nicht der gleiche shape), wird das sogenannte Broadcasting in numpy benutzt. Dabei wird die eine Zahl (Skalar) in einen neuen Tensor (Matrix) überführt, der die selbe Größe wie der zu addierende Tensor hat. Dann werden diese beiden Tensoren einfach Element-wise miteinander verrechnet."
   ]
  },
  {
   "cell_type": "code",
   "execution_count": 18,
   "metadata": {},
   "outputs": [
    {
     "name": "stdout",
     "output_type": "stream",
     "text": [
      "tensor([[1, 1, 1],\n",
      "        [2, 2, 2],\n",
      "        [3, 3, 3],\n",
      "        [4, 4, 4]])\n",
      "Addition + 2:  tensor([[3, 3, 3],\n",
      "        [4, 4, 4],\n",
      "        [5, 5, 5],\n",
      "        [6, 6, 6]])\n",
      "Subtraktion -2:  tensor([[-1, -1, -1],\n",
      "        [ 0,  0,  0],\n",
      "        [ 1,  1,  1],\n",
      "        [ 2,  2,  2]])\n",
      "Multiplikation *2:  tensor([[2, 2, 2],\n",
      "        [4, 4, 4],\n",
      "        [6, 6, 6],\n",
      "        [8, 8, 8]])\n",
      "Division /2:  tensor([[0.5000, 0.5000, 0.5000],\n",
      "        [1.0000, 1.0000, 1.0000],\n",
      "        [1.5000, 1.5000, 1.5000],\n",
      "        [2.0000, 2.0000, 2.0000]])\n"
     ]
    }
   ],
   "source": [
    "Tensor1 = rank2\n",
    "\n",
    "Tensor2 = (Tensor1 + 2)\n",
    "Tensor3 = (Tensor1 - 2)\n",
    "Tensor4 = (Tensor1 * 2)\n",
    "Tensor5 = (Tensor1.float() / 2)\n",
    "\n",
    "print(Tensor1)\n",
    "print(\"Addition + 2: \",Tensor2)\n",
    "print(\"Subtraktion -2: \",Tensor3)\n",
    "print(\"Multiplikation *2: \",Tensor4)\n",
    "print(\"Division /2: \",Tensor5)"
   ]
  },
  {
   "cell_type": "markdown",
   "metadata": {},
   "source": [
    "<img src=\"20181021 Tensor Tutorial Grafik 3.5.jpg\">\n",
    "<img src=\"20181021 Tensor Tutorial Grafik 3.6.jpg\">"
   ]
  },
  {
   "cell_type": "code",
   "execution_count": null,
   "metadata": {},
   "outputs": [],
   "source": []
  }
 ],
 "metadata": {
  "kernelspec": {
   "display_name": "Python 3",
   "language": "python",
   "name": "python3"
  },
  "language_info": {
   "codemirror_mode": {
    "name": "ipython",
    "version": 3
   },
   "file_extension": ".py",
   "mimetype": "text/x-python",
   "name": "python",
   "nbconvert_exporter": "python",
   "pygments_lexer": "ipython3",
   "version": "3.7.7"
  }
 },
 "nbformat": 4,
 "nbformat_minor": 4
}
