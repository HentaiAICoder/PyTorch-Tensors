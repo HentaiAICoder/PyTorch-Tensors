{
 "cells": [
  {
   "cell_type": "markdown",
   "metadata": {},
   "source": [
    "# Terragon.de PyTorch Tutorial\n",
    "## Convert .csv file to PyTorch Tensor\n",
    "## Video: https://www.youtube.com/watch?v=MFmReY5wMCA\n",
    "\n",
    "In this tutorial we will create a PyTorch Tensor from a .csv file."
   ]
  },
  {
   "cell_type": "markdown",
   "metadata": {},
   "source": [
    "# Imports"
   ]
  },
  {
   "cell_type": "code",
   "execution_count": 6,
   "metadata": {},
   "outputs": [],
   "source": [
    "import torch\n",
    "import pandas as pd"
   ]
  },
  {
   "cell_type": "markdown",
   "metadata": {},
   "source": [
    "# Read .csv file with pandas"
   ]
  },
  {
   "cell_type": "code",
   "execution_count": 7,
   "metadata": {},
   "outputs": [
    {
     "name": "stdout",
     "output_type": "stream",
     "text": [
      "   Terragon1  Terragon2  Terragon3\n",
      "0          2          4          5\n",
      "1          2          3          3\n",
      "2          4          4          5\n",
      "3          5          2          6\n",
      "4          3          4          7\n",
      "5          2          5          8\n",
      "6          4          7          7\n",
      "7          2          6          6\n",
      "8          3          5          5\n",
      "9          4          5          4\n",
      "(10, 3)\n"
     ]
    }
   ],
   "source": [
    "Terragon_Sample_Data = pd.read_csv('Terragon_Sample_Data.csv')\n",
    "print(Terragon_Sample_Data)\n",
    "print(Terragon_Sample_Data.shape)"
   ]
  },
  {
   "cell_type": "markdown",
   "metadata": {},
   "source": [
    "# Convert to Tensor"
   ]
  },
  {
   "cell_type": "code",
   "execution_count": 8,
   "metadata": {},
   "outputs": [
    {
     "name": "stdout",
     "output_type": "stream",
     "text": [
      "tensor([[2, 4, 5],\n",
      "        [2, 3, 3],\n",
      "        [4, 4, 5],\n",
      "        [5, 2, 6],\n",
      "        [3, 4, 7],\n",
      "        [2, 5, 8],\n",
      "        [4, 7, 7],\n",
      "        [2, 6, 6],\n",
      "        [3, 5, 5],\n",
      "        [4, 5, 4]])\n",
      "torch.Size([10, 3])\n"
     ]
    }
   ],
   "source": [
    "Tensor = torch.tensor(Terragon_Sample_Data.values)\n",
    "print(Tensor)\n",
    "print(Tensor.shape)"
   ]
  },
  {
   "cell_type": "code",
   "execution_count": 9,
   "metadata": {},
   "outputs": [
    {
     "name": "stdout",
     "output_type": "stream",
     "text": [
      "Visit http://www.Terragon.de\n"
     ]
    }
   ],
   "source": [
    "print(\"Visit http://www.Terragon.de\")"
   ]
  },
  {
   "cell_type": "code",
   "execution_count": null,
   "metadata": {},
   "outputs": [],
   "source": []
  }
 ],
 "metadata": {
  "kernelspec": {
   "display_name": "Python 3",
   "language": "python",
   "name": "python3"
  },
  "language_info": {
   "codemirror_mode": {
    "name": "ipython",
    "version": 3
   },
   "file_extension": ".py",
   "mimetype": "text/x-python",
   "name": "python",
   "nbconvert_exporter": "python",
   "pygments_lexer": "ipython3",
   "version": "3.7.7"
  }
 },
 "nbformat": 4,
 "nbformat_minor": 4
}
